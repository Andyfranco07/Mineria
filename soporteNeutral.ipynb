{
 "cells": [
  {
   "cell_type": "code",
   "execution_count": null,
   "id": "d2c56799",
   "metadata": {},
   "outputs": [],
   "source": [
    "# Importar módulos necesarios de scikit-learn"
   ]
  },
  {
   "cell_type": "code",
   "execution_count": null,
   "id": "8f26e400",
   "metadata": {},
   "outputs": [],
   "source": [
    "from sklearn import svm\n",
    "from sklearn.model_selection import train_test_split\n",
    "from sklearn.preprocessing import StandardScaler\n"
   ]
  },
  {
   "cell_type": "code",
   "execution_count": null,
   "id": "7d02e76e",
   "metadata": {},
   "outputs": [],
   "source": [
    "# Separar los datos en conjuntos de entrenamiento y prueba (test_size=0.2 indica 20% para prueba)\n"
   ]
  },
  {
   "cell_type": "code",
   "execution_count": null,
   "id": "78ba52cd",
   "metadata": {},
   "outputs": [],
   "source": [
    "X_train, X_test, y_train, y_test = train_test_split(X, y, test_size=0.2)"
   ]
  },
  {
   "cell_type": "code",
   "execution_count": null,
   "id": "ade50363",
   "metadata": {},
   "outputs": [],
   "source": [
    "# Crear un objeto StandardScaler para estandarizar los datos\n",
    "# Aplicar la estandarización a los conjuntos de entrenamiento y prueba\n"
   ]
  },
  {
   "cell_type": "code",
   "execution_count": null,
   "id": "93ca3e9a",
   "metadata": {},
   "outputs": [],
   "source": [
    "scaler = StandardScaler()\n",
    "X_train = scaler.fit_transform(X_train)\n",
    "X_test = scaler.transform(X_test)"
   ]
  },
  {
   "cell_type": "code",
   "execution_count": null,
   "id": "10720617",
   "metadata": {},
   "outputs": [],
   "source": [
    "# Crear un modelo de SVM utilizando el kernel 'rbf' (función de base radial)"
   ]
  },
  {
   "cell_type": "code",
   "execution_count": null,
   "id": "c7047c0e",
   "metadata": {},
   "outputs": [],
   "source": [
    "model = svm.SVC(kernel='rbf')\n"
   ]
  },
  {
   "cell_type": "code",
   "execution_count": null,
   "id": "a0cbd0c5",
   "metadata": {},
   "outputs": [],
   "source": [
    "# Entrenar el modelo SVM utilizando los conjuntos de entrenamiento"
   ]
  },
  {
   "cell_type": "code",
   "execution_count": null,
   "id": "1541922d",
   "metadata": {},
   "outputs": [],
   "source": [
    "model.fit(X_train, y_train)"
   ]
  },
  {
   "cell_type": "code",
   "execution_count": null,
   "id": "86d90882",
   "metadata": {},
   "outputs": [],
   "source": [
    "# Predecir las etiquetas utilizando el modelo entrenado y los datos de prueba"
   ]
  },
  {
   "cell_type": "code",
   "execution_count": null,
   "id": "881227ec",
   "metadata": {},
   "outputs": [],
   "source": [
    "y_pred = model.predict(X_test)"
   ]
  },
  {
   "cell_type": "code",
   "execution_count": null,
   "id": "6a5ce265",
   "metadata": {},
   "outputs": [],
   "source": [
    "# Calcular la precisión (accuracy) comparando las etiquetas predichas con las etiquetas reales"
   ]
  },
  {
   "cell_type": "code",
   "execution_count": null,
   "id": "c30f1224",
   "metadata": {},
   "outputs": [],
   "source": [
    "from sklearn.metrics import accuracy_score\n",
    "accuracy = accuracy_score(y_test, y_pred)\n"
   ]
  }
 ],
 "metadata": {
  "kernelspec": {
   "display_name": "Python 3 (ipykernel)",
   "language": "python",
   "name": "python3"
  },
  "language_info": {
   "codemirror_mode": {
    "name": "ipython",
    "version": 3
   },
   "file_extension": ".py",
   "mimetype": "text/x-python",
   "name": "python",
   "nbconvert_exporter": "python",
   "pygments_lexer": "ipython3",
   "version": "3.10.9"
  }
 },
 "nbformat": 4,
 "nbformat_minor": 5
}
