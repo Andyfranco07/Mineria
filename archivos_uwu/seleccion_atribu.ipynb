{
 "cells": [
  {
   "cell_type": "code",
   "execution_count": 66,
   "id": "5f13f072",
   "metadata": {},
   "outputs": [],
   "source": [
    "import pandas as pd\n",
    "from sklearn.preprocessing import LabelEncoder"
   ]
  },
  {
   "cell_type": "code",
   "execution_count": 67,
   "id": "7bf9fd88",
   "metadata": {},
   "outputs": [],
   "source": [
    "df = pd.read_csv('subdataset_3.csv')\n"
   ]
  },
  {
   "cell_type": "code",
   "execution_count": 68,
   "id": "264e32cf",
   "metadata": {},
   "outputs": [],
   "source": [
    "columnas_categoricas = ['MOVIES','GENRE','RATING','STARS','ONE-LINE','VOTES','RunTime','primera_letra']"
   ]
  },
  {
   "cell_type": "code",
   "execution_count": 69,
   "id": "813b5abf",
   "metadata": {},
   "outputs": [],
   "source": [
    "label_encoder = LabelEncoder()"
   ]
  },
  {
   "cell_type": "code",
   "execution_count": 70,
   "id": "ed93af84",
   "metadata": {},
   "outputs": [],
   "source": [
    "for columna in columnas_categoricas:\n",
    "    df[columna] = label_encoder.fit_transform(df[columna])"
   ]
  },
  {
   "cell_type": "code",
   "execution_count": 71,
   "id": "5cd18f4b",
   "metadata": {},
   "outputs": [],
   "source": [
    "df.to_csv('subdata3.csv', index=False)"
   ]
  }
 ],
 "metadata": {
  "kernelspec": {
   "display_name": "Python 3 (ipykernel)",
   "language": "python",
   "name": "python3"
  },
  "language_info": {
   "codemirror_mode": {
    "name": "ipython",
    "version": 3
   },
   "file_extension": ".py",
   "mimetype": "text/x-python",
   "name": "python",
   "nbconvert_exporter": "python",
   "pygments_lexer": "ipython3",
   "version": "3.11.3"
  }
 },
 "nbformat": 4,
 "nbformat_minor": 5
}
